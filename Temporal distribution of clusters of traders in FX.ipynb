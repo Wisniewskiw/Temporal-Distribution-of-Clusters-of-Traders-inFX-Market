{
 "cells": [
  {
   "cell_type": "markdown",
   "id": "3a9f8bd7",
   "metadata": {},
   "source": [
    "# Temporal distribution of clusters of traders in FX implementation\n",
    "\n",
    "This notebook contains a Python implementation of investigation of clustering distribution and its temporal evolution of retail investors, based on trading timing similarity. It covers only the dynamic scenario where we do not restrict the number of present traders. Therefore the latter are increasing with time. For the static scenario one needs to  slightly modify the code.\n",
    "\n",
    "0) Contruct Dataset for SVN\n",
    "\n",
    "1) Apply SVN\n",
    "\n",
    "2) Given clustering algo create clusters\n",
    "\n",
    "3) Ewens distribution fit and other visualisations\n",
    "\n",
    "4) Application of aggregation algorithm and clusterised version of the latter\n"
   ]
  },
  {
   "cell_type": "code",
   "execution_count": 1,
   "id": "440035e9",
   "metadata": {},
   "outputs": [
    {
     "data": {
      "text/html": [
       "<style>.container { width:95% !important; }</style>"
      ],
      "text/plain": [
       "<IPython.core.display.HTML object>"
      ]
     },
     "execution_count": 1,
     "metadata": {},
     "output_type": "execute_result"
    }
   ],
   "source": [
    "from IPython.core.display import HTML\n",
    "HTML(\"<style>.container { width:95% !important; }</style>\")"
   ]
  },
  {
   "cell_type": "code",
   "execution_count": 1,
   "id": "9d36ec9c",
   "metadata": {},
   "outputs": [],
   "source": [
    "%load_ext autoreload\n",
    "%autoreload 2"
   ]
  },
  {
   "cell_type": "markdown",
   "id": "8a826b67",
   "metadata": {},
   "source": [
    "#### Imports"
   ]
  },
  {
   "cell_type": "code",
   "execution_count": 3,
   "id": "17396d56",
   "metadata": {},
   "outputs": [],
   "source": [
    "import py_files.SVN as svn\n",
    "import py_files.Ewens as ewens\n",
    "from py_files.DirTree import tree\n",
    "from tqdm import tqdm_notebook\n",
    "import json\n",
    "import itertools\n",
    "import matplotlib.pyplot as plt\n",
    "import numpy as np\n",
    "import pandas as pd\n",
    "import ipywidgets as widgets\n",
    "import os\n",
    "os.environ[\"R_HOME\"] = r\"C:\\Program Files\\R\\R-4.1.1\"\n",
    "os.environ[\"PATH\"]   = r\"C:\\Program Files\\R\\R-4.1.1\\bin\\x64\" + \";\" + os.environ[\"PATH\"]\n",
    "import rpy2\n",
    "from rpy2.robjects import pandas2ri, packages\n",
    "pandas2ri.activate()\n",
    "stats = packages.importr('stats')\n",
    "from os import listdir\n",
    "from os.path import isfile, join\n",
    "import networkx as nx\n",
    "from sklearn.preprocessing import LabelEncoder\n",
    "#overlapping\n",
    "from karateclub.community_detection.overlapping import EgoNetSplitter, NNSED, DANMF, MNMF, BigClam, SymmNMF\n",
    "from karateclub.community_detection.non_overlapping import EdMot, LabelPropagation, SCD, GEMSEC\n",
    "from pathlib import Path\n",
    "from itertools import islice"
   ]
  },
  {
   "cell_type": "code",
   "execution_count": 4,
   "id": "39d0fe47",
   "metadata": {},
   "outputs": [
    {
     "name": "stderr",
     "output_type": "stream",
     "text": [
      "C:\\Users\\actio\\miniconda3\\envs\\tensorflow-gpu\\lib\\site-packages\\rpy2\\robjects\\packages.py:367: UserWarning: The symbol 'quartz' is not in this R namespace/package.\n",
      "  \"The symbol '%s' is not in this R namespace/package.\" % name\n"
     ]
    }
   ],
   "source": [
    "%load_ext rpy2.ipython"
   ]
  },
  {
   "cell_type": "code",
   "execution_count": 5,
   "id": "23afd040",
   "metadata": {},
   "outputs": [],
   "source": [
    "import rpy2.robjects as ro\n",
    "from rpy2.robjects.packages import importr\n",
    "from rpy2.robjects import pandas2ri\n",
    "from rpy2.robjects.conversion import localconverter"
   ]
  },
  {
   "cell_type": "markdown",
   "id": "e9cdb625",
   "metadata": {},
   "source": [
    "#### Folders and paths "
   ]
  },
  {
   "cell_type": "code",
   "execution_count": 19,
   "id": "1bb13b9b",
   "metadata": {},
   "outputs": [
    {
     "name": "stdout",
     "output_type": "stream",
     "text": [
      "\n",
      "├── .ipynb_checkpoints\n",
      "├── data\n",
      "├── json_files\n",
      "├── karateclub\n",
      "│   ├── community_detection\n",
      "│   ├── dataset\n",
      "│   ├── graph_embedding\n",
      "│   ├── node_embedding\n",
      "│   ├── utils\n",
      "│   └── __pycache__\n",
      "├── notebooks\n",
      "│   └── .ipynb_checkpoints\n",
      "├── output\n",
      "│   ├── dynamic\n",
      "│   ├── dynamic_clusters\n",
      "│   └── tosvn\n",
      "├── py_files\n",
      "│   └── __pycache__\n",
      "├── r_files\n",
      "└── __pycache__\n",
      "\n",
      "20 directories\n"
     ]
    }
   ],
   "source": [
    "tree(\"\" , level=2, limit_to_directories=True)"
   ]
  },
  {
   "cell_type": "markdown",
   "id": "4875a208",
   "metadata": {},
   "source": [
    "## Contruct Dataset for SVN"
   ]
  },
  {
   "cell_type": "code",
   "execution_count": 5,
   "id": "1b912185",
   "metadata": {},
   "outputs": [],
   "source": [
    "#parameters\n",
    "with open('json_files\\constructsvn.json', 'r') as fp:\n",
    "    parameters_dict = json.load(fp)\n",
    "relevant_symbols = ['EUR/USD'] \n",
    "delta_t = [10,15,30,60,120,180,  360, 1440]\n",
    "cuts=[100,500,1000]"
   ]
  },
  {
   "cell_type": "code",
   "execution_count": 6,
   "id": "bb3e9af8",
   "metadata": {},
   "outputs": [
    {
     "data": {
      "application/vnd.jupyter.widget-view+json": {
       "model_id": "1cdead776dbe40c28df1b4825121781e",
       "version_major": 2,
       "version_minor": 0
      },
      "text/plain": [
       "  0%|          | 0/24 [00:00<?, ?it/s]"
      ]
     },
     "metadata": {},
     "output_type": "display_data"
    }
   ],
   "source": [
    "svn.ContructDatasetforSVN(parameters_dict,relevant_symbols,cuts, delta_t)"
   ]
  },
  {
   "cell_type": "markdown",
   "id": "124ed4d3",
   "metadata": {},
   "source": [
    "## Apply SVN\n",
    "- download R\n",
    "\n",
    "- in anaconda prompt type $ conda install -c r r-essentials\n",
    "\n",
    "- in anaconda prompt type $ pip install rpy2"
   ]
  },
  {
   "cell_type": "code",
   "execution_count": 7,
   "id": "131e628b",
   "metadata": {},
   "outputs": [
    {
     "name": "stdout",
     "output_type": "stream",
     "text": [
      "The rpy2.ipython extension is already loaded. To reload it, use:\n",
      "  %reload_ext rpy2.ipython\n"
     ]
    }
   ],
   "source": [
    "%load_ext rpy2.ipython"
   ]
  },
  {
   "cell_type": "markdown",
   "id": "d07d2d6b",
   "metadata": {},
   "source": [
    "### 1000 cutoff"
   ]
  },
  {
   "cell_type": "code",
   "execution_count": 8,
   "id": "f733c595",
   "metadata": {},
   "outputs": [
    {
     "name": "stdout",
     "output_type": "stream",
     "text": [
      "(50976, 403) (33984, 403) (16992, 403) (8496, 403) (4248, 403) (2832, 403) (1416, 403) (708, 403)\n"
     ]
    }
   ],
   "source": [
    "df10,df15,df30,df60,df120,df180,df360,df1440=svn.LoadDynamicDataforSVN(1000)\n",
    "r_from_pd_df10 = ro.conversion.py2rpy(df10)\n",
    "r_from_pd_df15 = ro.conversion.py2rpy(df15)\n",
    "r_from_pd_df30 = ro.conversion.py2rpy(df30)\n",
    "r_from_pd_df60 = ro.conversion.py2rpy(df60)\n",
    "r_from_pd_df120 = ro.conversion.py2rpy(df120)\n",
    "r_from_pd_df180 = ro.conversion.py2rpy(df180)\n",
    "r_from_pd_df360 = ro.conversion.py2rpy(df360)\n",
    "r_from_pd_df1440 = ro.conversion.py2rpy(df1440)"
   ]
  },
  {
   "cell_type": "code",
   "execution_count": 9,
   "id": "1a712561",
   "metadata": {},
   "outputs": [
    {
     "name": "stderr",
     "output_type": "stream",
     "text": [
      "R[write to console]: Loading required package: igraph\n",
      "\n",
      "R[write to console]: \n",
      "Attaching package: 'igraph'\n",
      "\n",
      "\n",
      "R[write to console]: The following objects are masked from 'package:stats':\n",
      "\n",
      "    decompose, spectrum\n",
      "\n",
      "\n",
      "R[write to console]: The following object is masked from 'package:base':\n",
      "\n",
      "    union\n",
      "\n",
      "\n",
      "R[write to console]: Loading required package: memoise\n",
      "\n"
     ]
    },
    {
     "name": "stdout",
     "output_type": "stream",
     "text": [
      "================================================================================================================================================================================================================================================================================================================================================================================================================================================================================================================================================================================================================================================================"
     ]
    }
   ],
   "source": [
    "%%R -i r_from_pd_df10 -i r_from_pd_df15 -i r_from_pd_df30 -i r_from_pd_df60 -i r_from_pd_df120 -i r_from_pd_df180 -i r_from_pd_df360 -i r_from_pd_df1440\n",
    "\n",
    "source(\"r_files/funs.R\")\n",
    "st=\"6months_2weeks_EURUSD_\"\n",
    "windowsize=120\n",
    "windowroll=10\n",
    "b=88\n",
    "iter=50\n",
    "cut=1000\n",
    "getSVNlinks(st,cut,windowsize,windowroll,b,iter)\n",
    " "
   ]
  },
  {
   "cell_type": "markdown",
   "id": "c13ff2f5",
   "metadata": {},
   "source": [
    "### 500 cutoff"
   ]
  },
  {
   "cell_type": "code",
   "execution_count": 10,
   "id": "461abb57",
   "metadata": {},
   "outputs": [
    {
     "name": "stdout",
     "output_type": "stream",
     "text": [
      "(62136, 885) (41424, 885) (20712, 885) (10356, 885) (5178, 885) (3452, 885) (1726, 885) (863, 885)\n"
     ]
    }
   ],
   "source": [
    "df10,df15,df30,df60,df120,df180,df360,df1440=svn.LoadDynamicDataforSVN(500)\n",
    "r_from_pd_df10 = ro.conversion.py2rpy(df10)\n",
    "r_from_pd_df15 = ro.conversion.py2rpy(df15)\n",
    "r_from_pd_df30 = ro.conversion.py2rpy(df30)\n",
    "r_from_pd_df60 = ro.conversion.py2rpy(df60)\n",
    "r_from_pd_df120 = ro.conversion.py2rpy(df120)\n",
    "r_from_pd_df180 = ro.conversion.py2rpy(df180)\n",
    "r_from_pd_df360 = ro.conversion.py2rpy(df360)\n",
    "r_from_pd_df1440 = ro.conversion.py2rpy(df1440)"
   ]
  },
  {
   "cell_type": "code",
   "execution_count": 28,
   "id": "f5e9e713",
   "metadata": {},
   "outputs": [
    {
     "name": "stdout",
     "output_type": "stream",
     "text": [
      "================================================================================================================================================================================================================================================================================================================================================================================================================================================================================================================================================================================================================================================================"
     ]
    }
   ],
   "source": [
    "%%R -i r_from_pd_df10 -i r_from_pd_df15 -i r_from_pd_df30 -i r_from_pd_df60 -i r_from_pd_df120 -i r_from_pd_df180 -i r_from_pd_df360 -i r_from_pd_df1440\n",
    "\n",
    "source(\"r_files/funs.R\")\n",
    "st=\"6months_2weeks_EURUSD_\"\n",
    "windowsize=120\n",
    "windowroll=10\n",
    "b=243\n",
    "iter=50\n",
    "\n",
    "cut=500\n",
    "getSVNlinks(st,cut,windowsize,windowroll,b,iter)\n",
    " "
   ]
  },
  {
   "cell_type": "markdown",
   "id": "015cafcb",
   "metadata": {},
   "source": [
    "### 100 cutoff"
   ]
  },
  {
   "cell_type": "code",
   "execution_count": 29,
   "id": "cf418b64",
   "metadata": {},
   "outputs": [
    {
     "name": "stdout",
     "output_type": "stream",
     "text": [
      "(68112, 4345) (45408, 4345) (22704, 4345) (11352, 4345) (5676, 4345) (3784, 4345) (1892, 4345) (946, 4345)\n"
     ]
    }
   ],
   "source": [
    "df10,df15,df30,df60,df120,df180,df360,df1440=svn.LoadDynamicDataforSVN(100)\n",
    "r_from_pd_df10 = ro.conversion.py2rpy(df10)\n",
    "r_from_pd_df15 = ro.conversion.py2rpy(df15)\n",
    "r_from_pd_df30 = ro.conversion.py2rpy(df30)\n",
    "r_from_pd_df60 = ro.conversion.py2rpy(df60)\n",
    "r_from_pd_df120 = ro.conversion.py2rpy(df120)\n",
    "r_from_pd_df180 = ro.conversion.py2rpy(df180)\n",
    "r_from_pd_df360 = ro.conversion.py2rpy(df360)\n",
    "r_from_pd_df1440 = ro.conversion.py2rpy(df1440)"
   ]
  },
  {
   "cell_type": "code",
   "execution_count": 32,
   "id": "af1a49f8",
   "metadata": {},
   "outputs": [
    {
     "name": "stdout",
     "output_type": "stream",
     "text": [
      "================================================================================================================================================================================================================================================================================================================================================================================================================================================================================================================================================================================================================================================================"
     ]
    }
   ],
   "source": [
    "%%R -i r_from_pd_df10 -i r_from_pd_df15 -i r_from_pd_df30 -i r_from_pd_df60 -i r_from_pd_df120 -i r_from_pd_df180 -i r_from_pd_df360 -i r_from_pd_df1440\n",
    "\n",
    "source(\"r_files/funs.R\")\n",
    "st=\"6months_2weeks_EURUSD_\"\n",
    "windowsize=120\n",
    "windowroll=10\n",
    "b=326\n",
    "iter=50\n",
    "cut=100\n",
    "getSVNlinks(st,cut,windowsize,windowroll,b,iter)\n",
    " "
   ]
  },
  {
   "cell_type": "markdown",
   "id": "73d60f7e",
   "metadata": {},
   "source": [
    "##  Given clustering algo create clusters\n",
    "### We construct clusters using\n",
    "- Constructing clusters using igraph  R library (https://rdrr.io/cran/igraph/man/ look for  functions starting with cluster_..)\n",
    "- Constructing clusters using karakte club python library (https://github.com/benedekrozemberczki/karateclub)\n",
    "#### Constructing clusters using igraph R library\n",
    "\n",
    "- cluster_walktrap() Community strucure via short random walks, see http://arxiv.org/abs/physics/0512106\n",
    "- cluster_edge_betweenness() aka Girvan-Newman algorithm: Community structure detection based on edge betweenness. Consecutively each edge with the highest betweenness is removed from the graph.\n",
    "- cluster_fast_greedy() aka Clauset-Newman-Moore algorithm. Agglomerative algorithm that greedily optimises modularity. Fast, but might get stuck in a local optimum.\n",
    "- cluster_spinglass() Finding communities in graphs based on statistical meachanics http://arxiv.org/abs/cond-mat/0603718\n",
    "- cluster_leading_eigen() This function tries to find densely connected subgraphs in a graph by calculating the leading non-negative eigenvector of the modularity matrix of the graph.  https://arxiv.org/abs/physics/0605087\n",
    "- cluster_infomap() Minimizes the expected description length of a random walker trajectory\n",
    "- cluster_label_prop() Fast – This is a fast, nearly linear time algorithm for detecting community structure in networks. In works by labeling the vertices with unique labels and then updating the labels by majority voting in the neighborhood of the vertex.  https://arxiv.org/abs/0709.2938\n",
    "- cluster_louvain() Fast, hierarchical. Each vertex is moved to the community with which it achieves the highest contribution to modularity (agglomeration in k-means?)\n",
    "- cluster_optimal() Slow, optimal communities based on maximal modularity score.\n"
   ]
  },
  {
   "cell_type": "code",
   "execution_count": 34,
   "id": "9e124941",
   "metadata": {},
   "outputs": [
    {
     "name": "stdout",
     "output_type": "stream",
     "text": [
      "[1] \"EURUSD ****min: 10 ****cut: 100 ****window: 6months_2weeks ****path: output/dynamic/ ****method: infomap\"\n",
      "================================================================================[1] \"EURUSD ****min: 15 ****cut: 100 ****window: 6months_2weeks ****path: output/dynamic/ ****method: infomap\"\n",
      "================================================================================[1] \"EURUSD ****min: 30 ****cut: 100 ****window: 6months_2weeks ****path: output/dynamic/ ****method: infomap\"\n",
      "================================================================================[1] \"EURUSD ****min: 60 ****cut: 100 ****window: 6months_2weeks ****path: output/dynamic/ ****method: infomap\"\n",
      "================================================================================[1] \"EURUSD ****min: 120 ****cut: 100 ****window: 6months_2weeks ****path: output/dynamic/ ****method: infomap\"\n",
      "================================================================================[1] \"EURUSD ****min: 180 ****cut: 100 ****window: 6months_2weeks ****path: output/dynamic/ ****method: infomap\"\n",
      "================================================================================[1] \"EURUSD ****min: 360 ****cut: 100 ****window: 6months_2weeks ****path: output/dynamic/ ****method: infomap\"\n",
      "================================================================================[1] \"EURUSD ****min: 1440 ****cut: 100 ****window: 6months_2weeks ****path: output/dynamic/ ****method: infomap\"\n",
      "================================================================================[1] \"EURUSD ****min: 10 ****cut: 500 ****window: 6months_2weeks ****path: output/dynamic/ ****method: infomap\"\n",
      "================================================================================[1] \"EURUSD ****min: 15 ****cut: 500 ****window: 6months_2weeks ****path: output/dynamic/ ****method: infomap\"\n",
      "================================================================================[1] \"EURUSD ****min: 30 ****cut: 500 ****window: 6months_2weeks ****path: output/dynamic/ ****method: infomap\"\n",
      "================================================================================[1] \"EURUSD ****min: 60 ****cut: 500 ****window: 6months_2weeks ****path: output/dynamic/ ****method: infomap\"\n",
      "================================================================================[1] \"EURUSD ****min: 120 ****cut: 500 ****window: 6months_2weeks ****path: output/dynamic/ ****method: infomap\"\n",
      "================================================================================[1] \"EURUSD ****min: 180 ****cut: 500 ****window: 6months_2weeks ****path: output/dynamic/ ****method: infomap\"\n",
      "================================================================================[1] \"EURUSD ****min: 360 ****cut: 500 ****window: 6months_2weeks ****path: output/dynamic/ ****method: infomap\"\n",
      "================================================================================[1] \"EURUSD ****min: 1440 ****cut: 500 ****window: 6months_2weeks ****path: output/dynamic/ ****method: infomap\"\n",
      "================================================================================[1] \"EURUSD ****min: 10 ****cut: 1000 ****window: 6months_2weeks ****path: output/dynamic/ ****method: infomap\"\n",
      "================================================================================[1] \"EURUSD ****min: 15 ****cut: 1000 ****window: 6months_2weeks ****path: output/dynamic/ ****method: infomap\"\n",
      "================================================================================[1] \"EURUSD ****min: 30 ****cut: 1000 ****window: 6months_2weeks ****path: output/dynamic/ ****method: infomap\"\n",
      "================================================================================[1] \"EURUSD ****min: 60 ****cut: 1000 ****window: 6months_2weeks ****path: output/dynamic/ ****method: infomap\"\n",
      "================================================================================[1] \"EURUSD ****min: 120 ****cut: 1000 ****window: 6months_2weeks ****path: output/dynamic/ ****method: infomap\"\n",
      "================================================================================[1] \"EURUSD ****min: 180 ****cut: 1000 ****window: 6months_2weeks ****path: output/dynamic/ ****method: infomap\"\n",
      "================================================================================[1] \"EURUSD ****min: 360 ****cut: 1000 ****window: 6months_2weeks ****path: output/dynamic/ ****method: infomap\"\n",
      "================================================================================[1] \"EURUSD ****min: 1440 ****cut: 1000 ****window: 6months_2weeks ****path: output/dynamic/ ****method: infomap\"\n",
      "================================================================================"
     ]
    }
   ],
   "source": [
    "%%R\n",
    "\n",
    "#cluster_methods_liste<-c( \"spinglass\",\"walktrap\",\"infomap\",\"louvain\",\"edge_betweenness\",\"fast_greedy\",\"label_prop\",\"leading_eigen\")\n",
    "\n",
    "name<-\"EURUSD\"\n",
    "minutes_liste<-minutes_liste<-c(10,15,30,60,120,180,360,1440)\n",
    "cut_liste<-c(100,500,1000)\n",
    "window_liste<-c(\"6months_2weeks\")\n",
    "mypath_liste<-c(\"output/dynamic/\")\n",
    "cluster_methods_liste<-c( \"infomap\" )\n",
    "createRclusters(name,minutes_liste,cut_liste,window_liste,mypath_liste,cluster_methods_liste)\n",
    "\n"
   ]
  },
  {
   "cell_type": "markdown",
   "id": "f9cd6e2b",
   "metadata": {},
   "source": [
    "#### Constructing clusters using karakte club python library\n",
    "\n",
    "\n",
    "Overlapping Community Detection\n",
    "\n",
    "- DANMF from Ye et al.: Deep Autoencoder-like Nonnegative Matrix Factorization for Community Detection (CIKM 2018)\n",
    "-  M-NMF from Wang et al.: Community Preserving Network Embedding (AAAI 2017)\n",
    "-  Ego-Splitting from Epasto et al.: Ego-splitting Framework: from Non-Overlapping to Overlapping Clusters (KDD 2017)\n",
    "-   NNSED from Sun et al.: A Non-negative Symmetric Encoder-Decoder Approach for Community Detection (CIKM 2017)\n",
    "-  BigClam from Yang and Leskovec: Overlapping Community Detection at Scale: A Nonnegative Matrix Factorization Approach (WSDM 2013)\n",
    "-   SymmNMF from Kuang et al.: Symmetric Nonnegative Matrix Factorization for Graph Clustering (SDM 2012)\n",
    "\n",
    "Non-Overlapping Community Detection\n",
    " -   GEMSEC from Rozemberczki et al.: GEMSEC: Graph Embedding with Self Clustering (ASONAM 2019)\n",
    "\n",
    " -   EdMot from Li et al.: EdMot: An Edge Enhancement Approach for Motif-aware Community Detection (KDD 2019)\n",
    "\n",
    " -   SCD from Prat-Perez et al.: High Quality, Scalable and Parallel Community Detectionfor Large Real Graphs (WWW 2014)\n",
    "\n",
    " -   Label Propagation from Raghavan et al.: Near Linear Time Algorithm to Detect Community Structures in Large-Scale Networks (Physics Review E 2007)\n",
    " \n"
   ]
  },
  {
   "cell_type": "code",
   "execution_count": 11,
   "id": "675cc45c",
   "metadata": {},
   "outputs": [
    {
     "name": "stdout",
     "output_type": "stream",
     "text": [
      "EURUSD 10 100 6months_2weeks EgoNetSplitter output\\dynamic\\\n"
     ]
    },
    {
     "data": {
      "application/vnd.jupyter.widget-view+json": {
       "model_id": "22d75b7f3cac435fb02357462a1bfc36",
       "version_major": 2,
       "version_minor": 0
      },
      "text/plain": [
       "  0%|          | 0/51 [00:00<?, ?it/s]"
      ]
     },
     "metadata": {},
     "output_type": "display_data"
    },
    {
     "name": "stdout",
     "output_type": "stream",
     "text": [
      "EURUSD 15 100 6months_2weeks EgoNetSplitter output\\dynamic\\\n"
     ]
    },
    {
     "data": {
      "application/vnd.jupyter.widget-view+json": {
       "model_id": "c9ca9d99ca0a424da6ceddc5410b004d",
       "version_major": 2,
       "version_minor": 0
      },
      "text/plain": [
       "  0%|          | 0/51 [00:00<?, ?it/s]"
      ]
     },
     "metadata": {},
     "output_type": "display_data"
    },
    {
     "name": "stdout",
     "output_type": "stream",
     "text": [
      "EURUSD 30 100 6months_2weeks EgoNetSplitter output\\dynamic\\\n"
     ]
    },
    {
     "data": {
      "application/vnd.jupyter.widget-view+json": {
       "model_id": "620edc0e5c904f9bb94801857b81cb64",
       "version_major": 2,
       "version_minor": 0
      },
      "text/plain": [
       "  0%|          | 0/51 [00:00<?, ?it/s]"
      ]
     },
     "metadata": {},
     "output_type": "display_data"
    },
    {
     "name": "stdout",
     "output_type": "stream",
     "text": [
      "EURUSD 60 100 6months_2weeks EgoNetSplitter output\\dynamic\\\n"
     ]
    },
    {
     "data": {
      "application/vnd.jupyter.widget-view+json": {
       "model_id": "e5daa03a85a94762886d5d03318f5165",
       "version_major": 2,
       "version_minor": 0
      },
      "text/plain": [
       "  0%|          | 0/51 [00:00<?, ?it/s]"
      ]
     },
     "metadata": {},
     "output_type": "display_data"
    },
    {
     "name": "stdout",
     "output_type": "stream",
     "text": [
      "EURUSD 120 100 6months_2weeks EgoNetSplitter output\\dynamic\\\n"
     ]
    },
    {
     "data": {
      "application/vnd.jupyter.widget-view+json": {
       "model_id": "efe2543b52a544688153d1f5e8c98f08",
       "version_major": 2,
       "version_minor": 0
      },
      "text/plain": [
       "  0%|          | 0/51 [00:00<?, ?it/s]"
      ]
     },
     "metadata": {},
     "output_type": "display_data"
    },
    {
     "name": "stdout",
     "output_type": "stream",
     "text": [
      "EURUSD 180 100 6months_2weeks EgoNetSplitter output\\dynamic\\\n"
     ]
    },
    {
     "data": {
      "application/vnd.jupyter.widget-view+json": {
       "model_id": "b79f7be96b2a4ec1b16bc157bab1ec2f",
       "version_major": 2,
       "version_minor": 0
      },
      "text/plain": [
       "  0%|          | 0/51 [00:00<?, ?it/s]"
      ]
     },
     "metadata": {},
     "output_type": "display_data"
    },
    {
     "name": "stdout",
     "output_type": "stream",
     "text": [
      "EURUSD 360 100 6months_2weeks EgoNetSplitter output\\dynamic\\\n"
     ]
    },
    {
     "data": {
      "application/vnd.jupyter.widget-view+json": {
       "model_id": "ed3821a243bc48a3b9bbeb77c4a2f82d",
       "version_major": 2,
       "version_minor": 0
      },
      "text/plain": [
       "  0%|          | 0/51 [00:00<?, ?it/s]"
      ]
     },
     "metadata": {},
     "output_type": "display_data"
    },
    {
     "name": "stdout",
     "output_type": "stream",
     "text": [
      "EURUSD 1440 100 6months_2weeks EgoNetSplitter output\\dynamic\\\n"
     ]
    },
    {
     "data": {
      "application/vnd.jupyter.widget-view+json": {
       "model_id": "6a237e9b234349018537253aa46725b1",
       "version_major": 2,
       "version_minor": 0
      },
      "text/plain": [
       "  0%|          | 0/51 [00:00<?, ?it/s]"
      ]
     },
     "metadata": {},
     "output_type": "display_data"
    },
    {
     "name": "stdout",
     "output_type": "stream",
     "text": [
      "EURUSD 10 500 6months_2weeks EgoNetSplitter output\\dynamic\\\n"
     ]
    },
    {
     "data": {
      "application/vnd.jupyter.widget-view+json": {
       "model_id": "2da622299cd94e1aaee31ea3c3dc2608",
       "version_major": 2,
       "version_minor": 0
      },
      "text/plain": [
       "  0%|          | 0/51 [00:00<?, ?it/s]"
      ]
     },
     "metadata": {},
     "output_type": "display_data"
    },
    {
     "name": "stdout",
     "output_type": "stream",
     "text": [
      "EURUSD 15 500 6months_2weeks EgoNetSplitter output\\dynamic\\\n"
     ]
    },
    {
     "data": {
      "application/vnd.jupyter.widget-view+json": {
       "model_id": "d64fa50b32234772872cf359e06d7655",
       "version_major": 2,
       "version_minor": 0
      },
      "text/plain": [
       "  0%|          | 0/51 [00:00<?, ?it/s]"
      ]
     },
     "metadata": {},
     "output_type": "display_data"
    },
    {
     "name": "stdout",
     "output_type": "stream",
     "text": [
      "EURUSD 30 500 6months_2weeks EgoNetSplitter output\\dynamic\\\n"
     ]
    },
    {
     "data": {
      "application/vnd.jupyter.widget-view+json": {
       "model_id": "8e24c0b53fef4f9bb0045888b03506be",
       "version_major": 2,
       "version_minor": 0
      },
      "text/plain": [
       "  0%|          | 0/51 [00:00<?, ?it/s]"
      ]
     },
     "metadata": {},
     "output_type": "display_data"
    },
    {
     "name": "stdout",
     "output_type": "stream",
     "text": [
      "EURUSD 60 500 6months_2weeks EgoNetSplitter output\\dynamic\\\n"
     ]
    },
    {
     "data": {
      "application/vnd.jupyter.widget-view+json": {
       "model_id": "e1c789403d75434c8f0414e140fb5434",
       "version_major": 2,
       "version_minor": 0
      },
      "text/plain": [
       "  0%|          | 0/51 [00:00<?, ?it/s]"
      ]
     },
     "metadata": {},
     "output_type": "display_data"
    },
    {
     "name": "stdout",
     "output_type": "stream",
     "text": [
      "EURUSD 120 500 6months_2weeks EgoNetSplitter output\\dynamic\\\n"
     ]
    },
    {
     "data": {
      "application/vnd.jupyter.widget-view+json": {
       "model_id": "060431d0a2e74778911a628afec2d59c",
       "version_major": 2,
       "version_minor": 0
      },
      "text/plain": [
       "  0%|          | 0/51 [00:00<?, ?it/s]"
      ]
     },
     "metadata": {},
     "output_type": "display_data"
    },
    {
     "name": "stdout",
     "output_type": "stream",
     "text": [
      "EURUSD 180 500 6months_2weeks EgoNetSplitter output\\dynamic\\\n"
     ]
    },
    {
     "data": {
      "application/vnd.jupyter.widget-view+json": {
       "model_id": "a5ed632e1b5b4b01be4a6d435b6a6933",
       "version_major": 2,
       "version_minor": 0
      },
      "text/plain": [
       "  0%|          | 0/51 [00:00<?, ?it/s]"
      ]
     },
     "metadata": {},
     "output_type": "display_data"
    },
    {
     "name": "stdout",
     "output_type": "stream",
     "text": [
      "EURUSD 360 500 6months_2weeks EgoNetSplitter output\\dynamic\\\n"
     ]
    },
    {
     "data": {
      "application/vnd.jupyter.widget-view+json": {
       "model_id": "7d897a4bb5024f989ac4a1a40974b1b8",
       "version_major": 2,
       "version_minor": 0
      },
      "text/plain": [
       "  0%|          | 0/51 [00:00<?, ?it/s]"
      ]
     },
     "metadata": {},
     "output_type": "display_data"
    },
    {
     "name": "stdout",
     "output_type": "stream",
     "text": [
      "EURUSD 1440 500 6months_2weeks EgoNetSplitter output\\dynamic\\\n"
     ]
    },
    {
     "data": {
      "application/vnd.jupyter.widget-view+json": {
       "model_id": "100c47d5ecad4bfcbe4c6d7cf71730c5",
       "version_major": 2,
       "version_minor": 0
      },
      "text/plain": [
       "  0%|          | 0/51 [00:00<?, ?it/s]"
      ]
     },
     "metadata": {},
     "output_type": "display_data"
    },
    {
     "name": "stdout",
     "output_type": "stream",
     "text": [
      "EURUSD 10 1000 6months_2weeks EgoNetSplitter output\\dynamic\\\n"
     ]
    },
    {
     "data": {
      "application/vnd.jupyter.widget-view+json": {
       "model_id": "5e20338054c7450097a3370133990c76",
       "version_major": 2,
       "version_minor": 0
      },
      "text/plain": [
       "  0%|          | 0/51 [00:00<?, ?it/s]"
      ]
     },
     "metadata": {},
     "output_type": "display_data"
    },
    {
     "name": "stdout",
     "output_type": "stream",
     "text": [
      "EURUSD 15 1000 6months_2weeks EgoNetSplitter output\\dynamic\\\n"
     ]
    },
    {
     "data": {
      "application/vnd.jupyter.widget-view+json": {
       "model_id": "efe73cb7142642dabcb6560fddd4606a",
       "version_major": 2,
       "version_minor": 0
      },
      "text/plain": [
       "  0%|          | 0/51 [00:00<?, ?it/s]"
      ]
     },
     "metadata": {},
     "output_type": "display_data"
    },
    {
     "name": "stdout",
     "output_type": "stream",
     "text": [
      "EURUSD 30 1000 6months_2weeks EgoNetSplitter output\\dynamic\\\n"
     ]
    },
    {
     "data": {
      "application/vnd.jupyter.widget-view+json": {
       "model_id": "50e1a6311d344e709db8ae4e0b6e4154",
       "version_major": 2,
       "version_minor": 0
      },
      "text/plain": [
       "  0%|          | 0/51 [00:00<?, ?it/s]"
      ]
     },
     "metadata": {},
     "output_type": "display_data"
    },
    {
     "name": "stdout",
     "output_type": "stream",
     "text": [
      "EURUSD 60 1000 6months_2weeks EgoNetSplitter output\\dynamic\\\n"
     ]
    },
    {
     "data": {
      "application/vnd.jupyter.widget-view+json": {
       "model_id": "41f1e7972a8d469aad14165633c45897",
       "version_major": 2,
       "version_minor": 0
      },
      "text/plain": [
       "  0%|          | 0/51 [00:00<?, ?it/s]"
      ]
     },
     "metadata": {},
     "output_type": "display_data"
    },
    {
     "name": "stdout",
     "output_type": "stream",
     "text": [
      "EURUSD 120 1000 6months_2weeks EgoNetSplitter output\\dynamic\\\n"
     ]
    },
    {
     "data": {
      "application/vnd.jupyter.widget-view+json": {
       "model_id": "b56dbb47bcea423ead3de74e48ffab0e",
       "version_major": 2,
       "version_minor": 0
      },
      "text/plain": [
       "  0%|          | 0/51 [00:00<?, ?it/s]"
      ]
     },
     "metadata": {},
     "output_type": "display_data"
    },
    {
     "name": "stdout",
     "output_type": "stream",
     "text": [
      "EURUSD 180 1000 6months_2weeks EgoNetSplitter output\\dynamic\\\n"
     ]
    },
    {
     "data": {
      "application/vnd.jupyter.widget-view+json": {
       "model_id": "38ac408db5d547958eb8ad4fb3c89b59",
       "version_major": 2,
       "version_minor": 0
      },
      "text/plain": [
       "  0%|          | 0/51 [00:00<?, ?it/s]"
      ]
     },
     "metadata": {},
     "output_type": "display_data"
    },
    {
     "name": "stdout",
     "output_type": "stream",
     "text": [
      "EURUSD 360 1000 6months_2weeks EgoNetSplitter output\\dynamic\\\n"
     ]
    },
    {
     "data": {
      "application/vnd.jupyter.widget-view+json": {
       "model_id": "d64035bbd1ba44b6b8c41ca0875a1bc7",
       "version_major": 2,
       "version_minor": 0
      },
      "text/plain": [
       "  0%|          | 0/51 [00:00<?, ?it/s]"
      ]
     },
     "metadata": {},
     "output_type": "display_data"
    },
    {
     "name": "stdout",
     "output_type": "stream",
     "text": [
      "EURUSD 1440 1000 6months_2weeks EgoNetSplitter output\\dynamic\\\n"
     ]
    },
    {
     "data": {
      "application/vnd.jupyter.widget-view+json": {
       "model_id": "e4f7a19fb97d4cca9d6f65b631356b85",
       "version_major": 2,
       "version_minor": 0
      },
      "text/plain": [
       "  0%|          | 0/51 [00:00<?, ?it/s]"
      ]
     },
     "metadata": {},
     "output_type": "display_data"
    }
   ],
   "source": [
    "\n",
    "#minutes_liste=[10,15,30,60,120,180,360,1440]\n",
    "#cut_liste=[100,500,1000]\n",
    "#cluster_methods_liste =['EgoNetSplitter','NNSED','DANMF','MNMF','BigClam','SymmNMF','EdMot','LabelPropagation','SCD','GEMSEC']\n",
    "\n",
    "\n",
    "\n",
    "name=\"EURUSD\"\n",
    "\n",
    "minutes_liste=[10,15,30,60,120,180,360,1440]\n",
    "cut_liste=[100,500,1000]\n",
    "window_liste=[\"6months_2weeks\"]\n",
    "mypath_liste=[\"output\\\\dynamic\\\\\"]\n",
    "cluster_methods_liste =['EgoNetSplitter']\n",
    "svn.createPclusters(mypath_liste,window_liste,cut_liste,minutes_liste,cluster_methods_liste)"
   ]
  },
  {
   "cell_type": "markdown",
   "id": "69bfa4e1",
   "metadata": {},
   "source": [
    "## Ewens distribution fit and other visualisations\n",
    "\n"
   ]
  },
  {
   "cell_type": "code",
   "execution_count": 25,
   "id": "e716d7b1",
   "metadata": {},
   "outputs": [
    {
     "ename": "ValueError",
     "evalue": "cannot reindex from a duplicate axis",
     "output_type": "error",
     "traceback": [
      "\u001b[1;31m---------------------------------------------------------------------------\u001b[0m",
      "\u001b[1;31mValueError\u001b[0m                                Traceback (most recent call last)",
      "\u001b[1;32m<ipython-input-25-83887282356b>\u001b[0m in \u001b[0;36m<module>\u001b[1;34m\u001b[0m\n\u001b[1;32m----> 1\u001b[1;33m \u001b[0mewens\u001b[0m\u001b[1;33m.\u001b[0m\u001b[0mplot_stats\u001b[0m\u001b[1;33m(\u001b[0m\u001b[1;34m\"6months_2weeks_EURUSD\"\u001b[0m \u001b[1;33m,\u001b[0m\u001b[1;36m1000\u001b[0m \u001b[1;33m,\u001b[0m\u001b[1;36m50\u001b[0m\u001b[1;33m)\u001b[0m\u001b[1;33m\u001b[0m\u001b[1;33m\u001b[0m\u001b[0m\n\u001b[0m",
      "\u001b[1;32m~\\Desktop\\RHUL PhD\\Clustering_paper\\py_files\\Ewens.py\u001b[0m in \u001b[0;36mplot_stats\u001b[1;34m(name, cut, range_)\u001b[0m\n\u001b[0;32m     34\u001b[0m     \u001b[0mdeltat\u001b[0m \u001b[1;33m=\u001b[0m\u001b[1;33m[\u001b[0m\u001b[1;36m10\u001b[0m \u001b[1;33m,\u001b[0m\u001b[1;36m15\u001b[0m \u001b[1;33m,\u001b[0m\u001b[1;36m30\u001b[0m \u001b[1;33m,\u001b[0m\u001b[1;36m60\u001b[0m \u001b[1;33m,\u001b[0m\u001b[1;36m120\u001b[0m \u001b[1;33m,\u001b[0m\u001b[1;36m180\u001b[0m \u001b[1;33m,\u001b[0m\u001b[1;36m360\u001b[0m \u001b[1;33m,\u001b[0m\u001b[1;36m1440\u001b[0m\u001b[1;33m]\u001b[0m\u001b[1;33m\u001b[0m\u001b[1;33m\u001b[0m\u001b[0m\n\u001b[0;32m     35\u001b[0m     \u001b[1;32mfor\u001b[0m \u001b[0mdt\u001b[0m \u001b[1;33m,\u001b[0m\u001b[0mdf\u001b[0m \u001b[1;32min\u001b[0m \u001b[0mzip\u001b[0m\u001b[1;33m(\u001b[0m\u001b[0mdeltat\u001b[0m \u001b[1;33m,\u001b[0m\u001b[1;33m[\u001b[0m\u001b[0mtoplot10\u001b[0m \u001b[1;33m,\u001b[0m\u001b[0mtoplot15\u001b[0m \u001b[1;33m,\u001b[0m\u001b[0mtoplot30\u001b[0m \u001b[1;33m,\u001b[0m\u001b[0mtoplot60\u001b[0m \u001b[1;33m,\u001b[0m\u001b[0mtoplot120\u001b[0m \u001b[1;33m,\u001b[0m\u001b[0mtoplot180\u001b[0m \u001b[1;33m,\u001b[0m\u001b[0mtoplot360\u001b[0m \u001b[1;33m,\u001b[0m\u001b[0mtoplot1440\u001b[0m\u001b[1;33m]\u001b[0m\u001b[1;33m)\u001b[0m\u001b[1;33m:\u001b[0m\u001b[1;33m\u001b[0m\u001b[1;33m\u001b[0m\u001b[0m\n\u001b[1;32m---> 36\u001b[1;33m         \u001b[0mdfgroups\u001b[0m\u001b[1;33m[\u001b[0m\u001b[1;34m\"#groups_delta_t_\"\u001b[0m \u001b[1;33m+\u001b[0m\u001b[0mstr\u001b[0m\u001b[1;33m(\u001b[0m\u001b[0mdt\u001b[0m\u001b[1;33m)\u001b[0m \u001b[1;33m]\u001b[0m \u001b[1;33m=\u001b[0m\u001b[0mdf\u001b[0m\u001b[1;33m.\u001b[0m\u001b[0miloc\u001b[0m\u001b[1;33m[\u001b[0m\u001b[1;33m:\u001b[0m \u001b[1;33m,\u001b[0m\u001b[1;36m2\u001b[0m\u001b[1;33m]\u001b[0m\u001b[1;33m\u001b[0m\u001b[1;33m\u001b[0m\u001b[0m\n\u001b[0m\u001b[0;32m     37\u001b[0m     \u001b[1;32mfor\u001b[0m \u001b[0mdt\u001b[0m \u001b[1;33m,\u001b[0m\u001b[0mdf\u001b[0m \u001b[1;32min\u001b[0m \u001b[0mzip\u001b[0m\u001b[1;33m(\u001b[0m\u001b[0mdeltat\u001b[0m \u001b[1;33m,\u001b[0m\u001b[1;33m[\u001b[0m\u001b[0mtoplot10\u001b[0m \u001b[1;33m,\u001b[0m\u001b[0mtoplot15\u001b[0m \u001b[1;33m,\u001b[0m\u001b[0mtoplot30\u001b[0m \u001b[1;33m,\u001b[0m\u001b[0mtoplot60\u001b[0m \u001b[1;33m,\u001b[0m\u001b[0mtoplot120\u001b[0m \u001b[1;33m,\u001b[0m\u001b[0mtoplot180\u001b[0m \u001b[1;33m,\u001b[0m\u001b[0mtoplot360\u001b[0m \u001b[1;33m,\u001b[0m\u001b[0mtoplot1440\u001b[0m\u001b[1;33m]\u001b[0m\u001b[1;33m)\u001b[0m\u001b[1;33m:\u001b[0m\u001b[1;33m\u001b[0m\u001b[1;33m\u001b[0m\u001b[0m\n\u001b[0;32m     38\u001b[0m         \u001b[0mdflinks\u001b[0m\u001b[1;33m[\u001b[0m\u001b[1;34m\"#links_delta_t_\"\u001b[0m \u001b[1;33m+\u001b[0m\u001b[0mstr\u001b[0m\u001b[1;33m(\u001b[0m\u001b[0mdt\u001b[0m\u001b[1;33m)\u001b[0m \u001b[1;33m]\u001b[0m \u001b[1;33m=\u001b[0m\u001b[0mdf\u001b[0m\u001b[1;33m.\u001b[0m\u001b[0miloc\u001b[0m\u001b[1;33m[\u001b[0m\u001b[1;33m:\u001b[0m \u001b[1;33m,\u001b[0m\u001b[1;36m3\u001b[0m\u001b[1;33m]\u001b[0m\u001b[1;33m\u001b[0m\u001b[1;33m\u001b[0m\u001b[0m\n",
      "\u001b[1;32m~\\miniconda3\\envs\\tensorflow-gpu\\lib\\site-packages\\pandas\\core\\frame.py\u001b[0m in \u001b[0;36m__setitem__\u001b[1;34m(self, key, value)\u001b[0m\n\u001b[0;32m   3042\u001b[0m         \u001b[1;32melse\u001b[0m\u001b[1;33m:\u001b[0m\u001b[1;33m\u001b[0m\u001b[1;33m\u001b[0m\u001b[0m\n\u001b[0;32m   3043\u001b[0m             \u001b[1;31m# set column\u001b[0m\u001b[1;33m\u001b[0m\u001b[1;33m\u001b[0m\u001b[1;33m\u001b[0m\u001b[0m\n\u001b[1;32m-> 3044\u001b[1;33m             \u001b[0mself\u001b[0m\u001b[1;33m.\u001b[0m\u001b[0m_set_item\u001b[0m\u001b[1;33m(\u001b[0m\u001b[0mkey\u001b[0m\u001b[1;33m,\u001b[0m \u001b[0mvalue\u001b[0m\u001b[1;33m)\u001b[0m\u001b[1;33m\u001b[0m\u001b[1;33m\u001b[0m\u001b[0m\n\u001b[0m\u001b[0;32m   3045\u001b[0m \u001b[1;33m\u001b[0m\u001b[0m\n\u001b[0;32m   3046\u001b[0m     \u001b[1;32mdef\u001b[0m \u001b[0m_setitem_slice\u001b[0m\u001b[1;33m(\u001b[0m\u001b[0mself\u001b[0m\u001b[1;33m,\u001b[0m \u001b[0mkey\u001b[0m\u001b[1;33m:\u001b[0m \u001b[0mslice\u001b[0m\u001b[1;33m,\u001b[0m \u001b[0mvalue\u001b[0m\u001b[1;33m)\u001b[0m\u001b[1;33m:\u001b[0m\u001b[1;33m\u001b[0m\u001b[1;33m\u001b[0m\u001b[0m\n",
      "\u001b[1;32m~\\miniconda3\\envs\\tensorflow-gpu\\lib\\site-packages\\pandas\\core\\frame.py\u001b[0m in \u001b[0;36m_set_item\u001b[1;34m(self, key, value)\u001b[0m\n\u001b[0;32m   3118\u001b[0m         \"\"\"\n\u001b[0;32m   3119\u001b[0m         \u001b[0mself\u001b[0m\u001b[1;33m.\u001b[0m\u001b[0m_ensure_valid_index\u001b[0m\u001b[1;33m(\u001b[0m\u001b[0mvalue\u001b[0m\u001b[1;33m)\u001b[0m\u001b[1;33m\u001b[0m\u001b[1;33m\u001b[0m\u001b[0m\n\u001b[1;32m-> 3120\u001b[1;33m         \u001b[0mvalue\u001b[0m \u001b[1;33m=\u001b[0m \u001b[0mself\u001b[0m\u001b[1;33m.\u001b[0m\u001b[0m_sanitize_column\u001b[0m\u001b[1;33m(\u001b[0m\u001b[0mkey\u001b[0m\u001b[1;33m,\u001b[0m \u001b[0mvalue\u001b[0m\u001b[1;33m)\u001b[0m\u001b[1;33m\u001b[0m\u001b[1;33m\u001b[0m\u001b[0m\n\u001b[0m\u001b[0;32m   3121\u001b[0m         \u001b[0mNDFrame\u001b[0m\u001b[1;33m.\u001b[0m\u001b[0m_set_item\u001b[0m\u001b[1;33m(\u001b[0m\u001b[0mself\u001b[0m\u001b[1;33m,\u001b[0m \u001b[0mkey\u001b[0m\u001b[1;33m,\u001b[0m \u001b[0mvalue\u001b[0m\u001b[1;33m)\u001b[0m\u001b[1;33m\u001b[0m\u001b[1;33m\u001b[0m\u001b[0m\n\u001b[0;32m   3122\u001b[0m \u001b[1;33m\u001b[0m\u001b[0m\n",
      "\u001b[1;32m~\\miniconda3\\envs\\tensorflow-gpu\\lib\\site-packages\\pandas\\core\\frame.py\u001b[0m in \u001b[0;36m_sanitize_column\u001b[1;34m(self, key, value, broadcast)\u001b[0m\n\u001b[0;32m   3743\u001b[0m \u001b[1;33m\u001b[0m\u001b[0m\n\u001b[0;32m   3744\u001b[0m         \u001b[1;32mif\u001b[0m \u001b[0misinstance\u001b[0m\u001b[1;33m(\u001b[0m\u001b[0mvalue\u001b[0m\u001b[1;33m,\u001b[0m \u001b[0mSeries\u001b[0m\u001b[1;33m)\u001b[0m\u001b[1;33m:\u001b[0m\u001b[1;33m\u001b[0m\u001b[1;33m\u001b[0m\u001b[0m\n\u001b[1;32m-> 3745\u001b[1;33m             \u001b[0mvalue\u001b[0m \u001b[1;33m=\u001b[0m \u001b[0mreindexer\u001b[0m\u001b[1;33m(\u001b[0m\u001b[0mvalue\u001b[0m\u001b[1;33m)\u001b[0m\u001b[1;33m\u001b[0m\u001b[1;33m\u001b[0m\u001b[0m\n\u001b[0m\u001b[0;32m   3746\u001b[0m \u001b[1;33m\u001b[0m\u001b[0m\n\u001b[0;32m   3747\u001b[0m         \u001b[1;32melif\u001b[0m \u001b[0misinstance\u001b[0m\u001b[1;33m(\u001b[0m\u001b[0mvalue\u001b[0m\u001b[1;33m,\u001b[0m \u001b[0mDataFrame\u001b[0m\u001b[1;33m)\u001b[0m\u001b[1;33m:\u001b[0m\u001b[1;33m\u001b[0m\u001b[1;33m\u001b[0m\u001b[0m\n",
      "\u001b[1;32m~\\miniconda3\\envs\\tensorflow-gpu\\lib\\site-packages\\pandas\\core\\frame.py\u001b[0m in \u001b[0;36mreindexer\u001b[1;34m(value)\u001b[0m\n\u001b[0;32m   3734\u001b[0m                     \u001b[1;32mif\u001b[0m \u001b[1;32mnot\u001b[0m \u001b[0mvalue\u001b[0m\u001b[1;33m.\u001b[0m\u001b[0mindex\u001b[0m\u001b[1;33m.\u001b[0m\u001b[0mis_unique\u001b[0m\u001b[1;33m:\u001b[0m\u001b[1;33m\u001b[0m\u001b[1;33m\u001b[0m\u001b[0m\n\u001b[0;32m   3735\u001b[0m                         \u001b[1;31m# duplicate axis\u001b[0m\u001b[1;33m\u001b[0m\u001b[1;33m\u001b[0m\u001b[1;33m\u001b[0m\u001b[0m\n\u001b[1;32m-> 3736\u001b[1;33m                         \u001b[1;32mraise\u001b[0m \u001b[0merr\u001b[0m\u001b[1;33m\u001b[0m\u001b[1;33m\u001b[0m\u001b[0m\n\u001b[0m\u001b[0;32m   3737\u001b[0m \u001b[1;33m\u001b[0m\u001b[0m\n\u001b[0;32m   3738\u001b[0m                     \u001b[1;31m# other\u001b[0m\u001b[1;33m\u001b[0m\u001b[1;33m\u001b[0m\u001b[1;33m\u001b[0m\u001b[0m\n",
      "\u001b[1;32m~\\miniconda3\\envs\\tensorflow-gpu\\lib\\site-packages\\pandas\\core\\frame.py\u001b[0m in \u001b[0;36mreindexer\u001b[1;34m(value)\u001b[0m\n\u001b[0;32m   3729\u001b[0m                 \u001b[1;31m# GH 4107\u001b[0m\u001b[1;33m\u001b[0m\u001b[1;33m\u001b[0m\u001b[1;33m\u001b[0m\u001b[0m\n\u001b[0;32m   3730\u001b[0m                 \u001b[1;32mtry\u001b[0m\u001b[1;33m:\u001b[0m\u001b[1;33m\u001b[0m\u001b[1;33m\u001b[0m\u001b[0m\n\u001b[1;32m-> 3731\u001b[1;33m                     \u001b[0mvalue\u001b[0m \u001b[1;33m=\u001b[0m \u001b[0mvalue\u001b[0m\u001b[1;33m.\u001b[0m\u001b[0mreindex\u001b[0m\u001b[1;33m(\u001b[0m\u001b[0mself\u001b[0m\u001b[1;33m.\u001b[0m\u001b[0mindex\u001b[0m\u001b[1;33m)\u001b[0m\u001b[1;33m.\u001b[0m\u001b[0m_values\u001b[0m\u001b[1;33m\u001b[0m\u001b[1;33m\u001b[0m\u001b[0m\n\u001b[0m\u001b[0;32m   3732\u001b[0m                 \u001b[1;32mexcept\u001b[0m \u001b[0mValueError\u001b[0m \u001b[1;32mas\u001b[0m \u001b[0merr\u001b[0m\u001b[1;33m:\u001b[0m\u001b[1;33m\u001b[0m\u001b[1;33m\u001b[0m\u001b[0m\n\u001b[0;32m   3733\u001b[0m                     \u001b[1;31m# raised in MultiIndex.from_tuples, see test_insert_error_msmgs\u001b[0m\u001b[1;33m\u001b[0m\u001b[1;33m\u001b[0m\u001b[1;33m\u001b[0m\u001b[0m\n",
      "\u001b[1;32m~\\miniconda3\\envs\\tensorflow-gpu\\lib\\site-packages\\pandas\\core\\series.py\u001b[0m in \u001b[0;36mreindex\u001b[1;34m(self, index, **kwargs)\u001b[0m\n\u001b[0;32m   4410\u001b[0m     )\n\u001b[0;32m   4411\u001b[0m     \u001b[1;32mdef\u001b[0m \u001b[0mreindex\u001b[0m\u001b[1;33m(\u001b[0m\u001b[0mself\u001b[0m\u001b[1;33m,\u001b[0m \u001b[0mindex\u001b[0m\u001b[1;33m=\u001b[0m\u001b[1;32mNone\u001b[0m\u001b[1;33m,\u001b[0m \u001b[1;33m**\u001b[0m\u001b[0mkwargs\u001b[0m\u001b[1;33m)\u001b[0m\u001b[1;33m:\u001b[0m\u001b[1;33m\u001b[0m\u001b[1;33m\u001b[0m\u001b[0m\n\u001b[1;32m-> 4412\u001b[1;33m         \u001b[1;32mreturn\u001b[0m \u001b[0msuper\u001b[0m\u001b[1;33m(\u001b[0m\u001b[1;33m)\u001b[0m\u001b[1;33m.\u001b[0m\u001b[0mreindex\u001b[0m\u001b[1;33m(\u001b[0m\u001b[0mindex\u001b[0m\u001b[1;33m=\u001b[0m\u001b[0mindex\u001b[0m\u001b[1;33m,\u001b[0m \u001b[1;33m**\u001b[0m\u001b[0mkwargs\u001b[0m\u001b[1;33m)\u001b[0m\u001b[1;33m\u001b[0m\u001b[1;33m\u001b[0m\u001b[0m\n\u001b[0m\u001b[0;32m   4413\u001b[0m \u001b[1;33m\u001b[0m\u001b[0m\n\u001b[0;32m   4414\u001b[0m     def drop(\n",
      "\u001b[1;32m~\\miniconda3\\envs\\tensorflow-gpu\\lib\\site-packages\\pandas\\core\\generic.py\u001b[0m in \u001b[0;36mreindex\u001b[1;34m(self, *args, **kwargs)\u001b[0m\n\u001b[0;32m   4462\u001b[0m         \u001b[1;31m# perform the reindex on the axes\u001b[0m\u001b[1;33m\u001b[0m\u001b[1;33m\u001b[0m\u001b[1;33m\u001b[0m\u001b[0m\n\u001b[0;32m   4463\u001b[0m         return self._reindex_axes(\n\u001b[1;32m-> 4464\u001b[1;33m             \u001b[0maxes\u001b[0m\u001b[1;33m,\u001b[0m \u001b[0mlevel\u001b[0m\u001b[1;33m,\u001b[0m \u001b[0mlimit\u001b[0m\u001b[1;33m,\u001b[0m \u001b[0mtolerance\u001b[0m\u001b[1;33m,\u001b[0m \u001b[0mmethod\u001b[0m\u001b[1;33m,\u001b[0m \u001b[0mfill_value\u001b[0m\u001b[1;33m,\u001b[0m \u001b[0mcopy\u001b[0m\u001b[1;33m\u001b[0m\u001b[1;33m\u001b[0m\u001b[0m\n\u001b[0m\u001b[0;32m   4465\u001b[0m         ).__finalize__(self, method=\"reindex\")\n\u001b[0;32m   4466\u001b[0m \u001b[1;33m\u001b[0m\u001b[0m\n",
      "\u001b[1;32m~\\miniconda3\\envs\\tensorflow-gpu\\lib\\site-packages\\pandas\\core\\generic.py\u001b[0m in \u001b[0;36m_reindex_axes\u001b[1;34m(self, axes, level, limit, tolerance, method, fill_value, copy)\u001b[0m\n\u001b[0;32m   4485\u001b[0m                 \u001b[0mfill_value\u001b[0m\u001b[1;33m=\u001b[0m\u001b[0mfill_value\u001b[0m\u001b[1;33m,\u001b[0m\u001b[1;33m\u001b[0m\u001b[1;33m\u001b[0m\u001b[0m\n\u001b[0;32m   4486\u001b[0m                 \u001b[0mcopy\u001b[0m\u001b[1;33m=\u001b[0m\u001b[0mcopy\u001b[0m\u001b[1;33m,\u001b[0m\u001b[1;33m\u001b[0m\u001b[1;33m\u001b[0m\u001b[0m\n\u001b[1;32m-> 4487\u001b[1;33m                 \u001b[0mallow_dups\u001b[0m\u001b[1;33m=\u001b[0m\u001b[1;32mFalse\u001b[0m\u001b[1;33m,\u001b[0m\u001b[1;33m\u001b[0m\u001b[1;33m\u001b[0m\u001b[0m\n\u001b[0m\u001b[0;32m   4488\u001b[0m             )\n\u001b[0;32m   4489\u001b[0m \u001b[1;33m\u001b[0m\u001b[0m\n",
      "\u001b[1;32m~\\miniconda3\\envs\\tensorflow-gpu\\lib\\site-packages\\pandas\\core\\generic.py\u001b[0m in \u001b[0;36m_reindex_with_indexers\u001b[1;34m(self, reindexers, fill_value, copy, allow_dups)\u001b[0m\n\u001b[0;32m   4530\u001b[0m                 \u001b[0mfill_value\u001b[0m\u001b[1;33m=\u001b[0m\u001b[0mfill_value\u001b[0m\u001b[1;33m,\u001b[0m\u001b[1;33m\u001b[0m\u001b[1;33m\u001b[0m\u001b[0m\n\u001b[0;32m   4531\u001b[0m                 \u001b[0mallow_dups\u001b[0m\u001b[1;33m=\u001b[0m\u001b[0mallow_dups\u001b[0m\u001b[1;33m,\u001b[0m\u001b[1;33m\u001b[0m\u001b[1;33m\u001b[0m\u001b[0m\n\u001b[1;32m-> 4532\u001b[1;33m                 \u001b[0mcopy\u001b[0m\u001b[1;33m=\u001b[0m\u001b[0mcopy\u001b[0m\u001b[1;33m,\u001b[0m\u001b[1;33m\u001b[0m\u001b[1;33m\u001b[0m\u001b[0m\n\u001b[0m\u001b[0;32m   4533\u001b[0m             )\n\u001b[0;32m   4534\u001b[0m             \u001b[1;31m# If we've made a copy once, no need to make another one\u001b[0m\u001b[1;33m\u001b[0m\u001b[1;33m\u001b[0m\u001b[1;33m\u001b[0m\u001b[0m\n",
      "\u001b[1;32m~\\miniconda3\\envs\\tensorflow-gpu\\lib\\site-packages\\pandas\\core\\internals\\managers.py\u001b[0m in \u001b[0;36mreindex_indexer\u001b[1;34m(self, new_axis, indexer, axis, fill_value, allow_dups, copy, consolidate)\u001b[0m\n\u001b[0;32m   1283\u001b[0m         \u001b[1;31m# some axes don't allow reindexing with dups\u001b[0m\u001b[1;33m\u001b[0m\u001b[1;33m\u001b[0m\u001b[1;33m\u001b[0m\u001b[0m\n\u001b[0;32m   1284\u001b[0m         \u001b[1;32mif\u001b[0m \u001b[1;32mnot\u001b[0m \u001b[0mallow_dups\u001b[0m\u001b[1;33m:\u001b[0m\u001b[1;33m\u001b[0m\u001b[1;33m\u001b[0m\u001b[0m\n\u001b[1;32m-> 1285\u001b[1;33m             \u001b[0mself\u001b[0m\u001b[1;33m.\u001b[0m\u001b[0maxes\u001b[0m\u001b[1;33m[\u001b[0m\u001b[0maxis\u001b[0m\u001b[1;33m]\u001b[0m\u001b[1;33m.\u001b[0m\u001b[0m_can_reindex\u001b[0m\u001b[1;33m(\u001b[0m\u001b[0mindexer\u001b[0m\u001b[1;33m)\u001b[0m\u001b[1;33m\u001b[0m\u001b[1;33m\u001b[0m\u001b[0m\n\u001b[0m\u001b[0;32m   1286\u001b[0m \u001b[1;33m\u001b[0m\u001b[0m\n\u001b[0;32m   1287\u001b[0m         \u001b[1;32mif\u001b[0m \u001b[0maxis\u001b[0m \u001b[1;33m>=\u001b[0m \u001b[0mself\u001b[0m\u001b[1;33m.\u001b[0m\u001b[0mndim\u001b[0m\u001b[1;33m:\u001b[0m\u001b[1;33m\u001b[0m\u001b[1;33m\u001b[0m\u001b[0m\n",
      "\u001b[1;32m~\\miniconda3\\envs\\tensorflow-gpu\\lib\\site-packages\\pandas\\core\\indexes\\base.py\u001b[0m in \u001b[0;36m_can_reindex\u001b[1;34m(self, indexer)\u001b[0m\n\u001b[0;32m   3290\u001b[0m         \u001b[1;31m# trying to reindex on an axis with duplicates\u001b[0m\u001b[1;33m\u001b[0m\u001b[1;33m\u001b[0m\u001b[1;33m\u001b[0m\u001b[0m\n\u001b[0;32m   3291\u001b[0m         \u001b[1;32mif\u001b[0m \u001b[1;32mnot\u001b[0m \u001b[0mself\u001b[0m\u001b[1;33m.\u001b[0m\u001b[0mis_unique\u001b[0m \u001b[1;32mand\u001b[0m \u001b[0mlen\u001b[0m\u001b[1;33m(\u001b[0m\u001b[0mindexer\u001b[0m\u001b[1;33m)\u001b[0m\u001b[1;33m:\u001b[0m\u001b[1;33m\u001b[0m\u001b[1;33m\u001b[0m\u001b[0m\n\u001b[1;32m-> 3292\u001b[1;33m             \u001b[1;32mraise\u001b[0m \u001b[0mValueError\u001b[0m\u001b[1;33m(\u001b[0m\u001b[1;34m\"cannot reindex from a duplicate axis\"\u001b[0m\u001b[1;33m)\u001b[0m\u001b[1;33m\u001b[0m\u001b[1;33m\u001b[0m\u001b[0m\n\u001b[0m\u001b[0;32m   3293\u001b[0m \u001b[1;33m\u001b[0m\u001b[0m\n\u001b[0;32m   3294\u001b[0m     \u001b[1;32mdef\u001b[0m \u001b[0mreindex\u001b[0m\u001b[1;33m(\u001b[0m\u001b[0mself\u001b[0m\u001b[1;33m,\u001b[0m \u001b[0mtarget\u001b[0m\u001b[1;33m,\u001b[0m \u001b[0mmethod\u001b[0m\u001b[1;33m=\u001b[0m\u001b[1;32mNone\u001b[0m\u001b[1;33m,\u001b[0m \u001b[0mlevel\u001b[0m\u001b[1;33m=\u001b[0m\u001b[1;32mNone\u001b[0m\u001b[1;33m,\u001b[0m \u001b[0mlimit\u001b[0m\u001b[1;33m=\u001b[0m\u001b[1;32mNone\u001b[0m\u001b[1;33m,\u001b[0m \u001b[0mtolerance\u001b[0m\u001b[1;33m=\u001b[0m\u001b[1;32mNone\u001b[0m\u001b[1;33m)\u001b[0m\u001b[1;33m:\u001b[0m\u001b[1;33m\u001b[0m\u001b[1;33m\u001b[0m\u001b[0m\n",
      "\u001b[1;31mValueError\u001b[0m: cannot reindex from a duplicate axis"
     ]
    }
   ],
   "source": [
    "ewens.plot_stats(\"6months_2weeks_EURUSD\" ,1000 ,50) "
   ]
  },
  {
   "cell_type": "markdown",
   "id": "b823bf8e",
   "metadata": {},
   "source": [
    "## Application of aggregation algorithm and clusterised version of the latter"
   ]
  },
  {
   "cell_type": "code",
   "execution_count": null,
   "id": "d590d7eb",
   "metadata": {},
   "outputs": [],
   "source": []
  },
  {
   "cell_type": "code",
   "execution_count": null,
   "id": "6ea4803f",
   "metadata": {},
   "outputs": [],
   "source": []
  },
  {
   "cell_type": "code",
   "execution_count": null,
   "id": "95816b73",
   "metadata": {},
   "outputs": [],
   "source": []
  },
  {
   "cell_type": "code",
   "execution_count": null,
   "id": "5e706135",
   "metadata": {},
   "outputs": [],
   "source": []
  },
  {
   "cell_type": "code",
   "execution_count": null,
   "id": "2521b8f9",
   "metadata": {},
   "outputs": [],
   "source": []
  },
  {
   "cell_type": "code",
   "execution_count": null,
   "id": "7acd9262",
   "metadata": {},
   "outputs": [],
   "source": []
  },
  {
   "cell_type": "code",
   "execution_count": null,
   "id": "eb4656f0",
   "metadata": {},
   "outputs": [],
   "source": []
  },
  {
   "cell_type": "code",
   "execution_count": null,
   "id": "e9ef498e",
   "metadata": {},
   "outputs": [],
   "source": []
  }
 ],
 "metadata": {
  "kernelspec": {
   "display_name": "Python 3",
   "language": "python",
   "name": "python3"
  },
  "language_info": {
   "codemirror_mode": {
    "name": "ipython",
    "version": 3
   },
   "file_extension": ".py",
   "mimetype": "text/x-python",
   "name": "python",
   "nbconvert_exporter": "python",
   "pygments_lexer": "ipython3",
   "version": "3.6.13"
  }
 },
 "nbformat": 4,
 "nbformat_minor": 5
}
